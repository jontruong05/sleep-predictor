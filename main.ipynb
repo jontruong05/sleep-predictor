{
 "cells": [
  {
   "cell_type": "markdown",
   "metadata": {},
   "source": [
    "# CS foreach Curriculum Workshop 10/24/2024: Introduction to AI/ML\n",
    "\n",
    "This Jupyter Notebook is a supplemental demo to the Intro to AI/ML Workshop hosted on 10/24/2024. It aims to create a simple linear regression model to predict sleep quality on a scale of 1-10 based on a number of factors."
   ]
  },
  {
   "cell_type": "code",
   "execution_count": 145,
   "metadata": {},
   "outputs": [],
   "source": [
    "# Import all relevant libraries\n",
    "import pandas as pd\n",
    "from sklearn.preprocessing import OneHotEncoder"
   ]
  },
  {
   "cell_type": "markdown",
   "metadata": {},
   "source": [
    "If you are using Google Colab to run this notebook, please un-comment the code cell below. Download the `Health_Sleep_Statistics.csv` file to your computer, run the cell below, and you will have the option to upload the file to this notebook."
   ]
  },
  {
   "cell_type": "code",
   "execution_count": 146,
   "metadata": {},
   "outputs": [],
   "source": [
    "# from google.colab import files\n",
    "# uploaded = files.upload()"
   ]
  },
  {
   "cell_type": "code",
   "execution_count": null,
   "metadata": {},
   "outputs": [],
   "source": [
    "# Load the sleep data\n",
    "sleep_data = pd.read_csv('Health_Sleep_Statistics.csv')\n",
    "sleep_data.head()"
   ]
  },
  {
   "cell_type": "markdown",
   "metadata": {},
   "source": [
    "# Data Encoding\n",
    "\n",
    "We want to try and predict the Sleep Quality Score as found in the \"Sleep Quality\" column using the other variables that we have.\n",
    "\n",
    "To start, let's perform One-Hot Encoding for the following columns: \"Gender\", \"Physical Activity Level\", \"Dietary Habits\", \"Sleep Disorders\", and \"Medication Usage\", so that all variables are represented by quantities. "
   ]
  },
  {
   "cell_type": "code",
   "execution_count": 148,
   "metadata": {},
   "outputs": [],
   "source": [
    "# Initialize sklearn's One Hot Encoder\n",
    "encoder = OneHotEncoder()"
   ]
  },
  {
   "cell_type": "code",
   "execution_count": 149,
   "metadata": {},
   "outputs": [],
   "source": [
    "# Perform One-Hot Encoding on \"Gender\"\n",
    "encoded_gender = encoder.fit_transform(sleep_data[['Gender']])\n",
    "gender_df = pd.DataFrame(encoded_gender.toarray(), columns=encoder.get_feature_names_out(['Gender']))"
   ]
  },
  {
   "cell_type": "code",
   "execution_count": 150,
   "metadata": {},
   "outputs": [],
   "source": [
    "# Perform One-Hot Encoding on \"Physical Activity Level\"\n",
    "encoded_physical_activity = encoder.fit_transform(sleep_data[['Physical Activity Level']])\n",
    "physical_activity_df = pd.DataFrame(encoded_physical_activity.toarray(), columns=encoder.get_feature_names_out(['Physical Activity Level']))"
   ]
  },
  {
   "cell_type": "code",
   "execution_count": 151,
   "metadata": {},
   "outputs": [],
   "source": [
    "# Perform One-Hot Encoding on \"Dietary Habits\"\n",
    "encoded_dietary_habits = encoder.fit_transform(sleep_data[['Dietary Habits']])\n",
    "dietary_habits_df = pd.DataFrame(encoded_dietary_habits.toarray(), columns=encoder.get_feature_names_out(['Dietary Habits']))"
   ]
  },
  {
   "cell_type": "code",
   "execution_count": 152,
   "metadata": {},
   "outputs": [],
   "source": [
    "# Perform One-Hot Encoding on \"Sleep Disorders\"\n",
    "encoded_sleep_disorders = encoder.fit_transform(sleep_data[['Sleep Disorders']])\n",
    "sleep_disorders_df = pd.DataFrame(encoded_sleep_disorders.toarray(), columns=encoder.get_feature_names_out(['Sleep Disorders']))"
   ]
  },
  {
   "cell_type": "code",
   "execution_count": 153,
   "metadata": {},
   "outputs": [],
   "source": [
    "# Perform One-Hot Encoding on \"Medication Usage\"\n",
    "encoded_medication_usage = encoder.fit_transform(sleep_data[['Medication Usage']])\n",
    "medication_usage_df = pd.DataFrame(encoded_medication_usage.toarray(), columns=encoder.get_feature_names_out(['Medication Usage']))"
   ]
  },
  {
   "cell_type": "code",
   "execution_count": 154,
   "metadata": {},
   "outputs": [],
   "source": [
    "# Join all of the One-Hot encoded data together\n",
    "encoded_sleep_data = (sleep_data\n",
    "                      .join(gender_df)\n",
    "                      .join(physical_activity_df)\n",
    "                      .join(dietary_habits_df)\n",
    "                      .join(sleep_disorders_df)\n",
    "                      .join(medication_usage_df))"
   ]
  },
  {
   "cell_type": "markdown",
   "metadata": {},
   "source": [
    "Let's drop the names of the columns that we just performed One-Hot Encoding on, since we won't really need them anymore."
   ]
  },
  {
   "cell_type": "code",
   "execution_count": 155,
   "metadata": {},
   "outputs": [],
   "source": [
    "encoded_sleep_data = encoded_sleep_data.drop(columns=['Gender', 'Physical Activity Level', 'Dietary Habits', 'Sleep Disorders', 'Medication Usage'])"
   ]
  },
  {
   "cell_type": "markdown",
   "metadata": {},
   "source": [
    "Let's also index by User ID:"
   ]
  },
  {
   "cell_type": "code",
   "execution_count": 156,
   "metadata": {},
   "outputs": [],
   "source": [
    "encoded_sleep_data = encoded_sleep_data.set_index('User ID')"
   ]
  },
  {
   "cell_type": "markdown",
   "metadata": {},
   "source": [
    "The only columns that need to be converted to viable quantities are \"Bedtime\" and \"Wake-up Time\". We can convert these times to minutes and create a model based on that."
   ]
  },
  {
   "cell_type": "code",
   "execution_count": 157,
   "metadata": {},
   "outputs": [],
   "source": [
    "def convert_to_minutes(time):\n",
    "    time_components = time.split(':')\n",
    "    minutes = int(time_components[0]) * 60 + int(time_components[1])\n",
    "    return minutes"
   ]
  },
  {
   "cell_type": "code",
   "execution_count": 158,
   "metadata": {},
   "outputs": [],
   "source": [
    "# Convert bedtimes and wake-up times to minutes\n",
    "bedtime_in_minutes = encoded_sleep_data['Bedtime'].apply(convert_to_minutes)\n",
    "wakeuptime_in_minutes = encoded_sleep_data['Wake-up Time'].apply(convert_to_minutes)"
   ]
  },
  {
   "cell_type": "code",
   "execution_count": 159,
   "metadata": {},
   "outputs": [],
   "source": [
    "# Add them to the encoded sleep data DataFrame\n",
    "encoded_sleep_data['Bedtime - Min'] = bedtime_in_minutes\n",
    "encoded_sleep_data['Wake-up Time - Min'] = wakeuptime_in_minutes"
   ]
  },
  {
   "cell_type": "markdown",
   "metadata": {},
   "source": [
    "We'll also drop the original columns for Bedtime and Wake-up Time:"
   ]
  },
  {
   "cell_type": "code",
   "execution_count": null,
   "metadata": {},
   "outputs": [],
   "source": [
    "encoded_sleep_data = encoded_sleep_data.drop(columns=['Bedtime', 'Wake-up Time'])\n",
    "encoded_sleep_data"
   ]
  },
  {
   "cell_type": "markdown",
   "metadata": {},
   "source": [
    "Everything is quantified now! We can start creating the model."
   ]
  },
  {
   "cell_type": "code",
   "execution_count": 161,
   "metadata": {},
   "outputs": [],
   "source": [
    "from sklearn.linear_model import LinearRegression\n",
    "from sklearn.model_selection import train_test_split"
   ]
  },
  {
   "cell_type": "code",
   "execution_count": 162,
   "metadata": {},
   "outputs": [],
   "source": [
    "sleep_scores = encoded_sleep_data['Sleep Quality']"
   ]
  },
  {
   "cell_type": "code",
   "execution_count": null,
   "metadata": {},
   "outputs": [],
   "source": [
    "data_no_scores = encoded_sleep_data.drop(['Sleep Quality'], axis=1)\n",
    "data_no_scores"
   ]
  },
  {
   "cell_type": "code",
   "execution_count": 176,
   "metadata": {},
   "outputs": [],
   "source": [
    "train_sleep_data, test_sleep_data, train_sleep_score, test_sleep_score = train_test_split(data_no_scores, sleep_scores, train_size=95, random_state=2)"
   ]
  },
  {
   "cell_type": "code",
   "execution_count": null,
   "metadata": {},
   "outputs": [],
   "source": [
    "model = LinearRegression().fit(train_sleep_data, train_sleep_score)\n",
    "print('The model has ' + str(model.score(train_sleep_data, train_sleep_score)) + '% accuracy!')"
   ]
  },
  {
   "cell_type": "code",
   "execution_count": null,
   "metadata": {},
   "outputs": [],
   "source": [
    "print('The model has ' + str(model.score(test_sleep_data, test_sleep_score)) + '% accuracy!')"
   ]
  }
 ],
 "metadata": {
  "kernelspec": {
   "display_name": "dsc80",
   "language": "python",
   "name": "python3"
  },
  "language_info": {
   "codemirror_mode": {
    "name": "ipython",
    "version": 3
   },
   "file_extension": ".py",
   "mimetype": "text/x-python",
   "name": "python",
   "nbconvert_exporter": "python",
   "pygments_lexer": "ipython3",
   "version": "3.12.6"
  }
 },
 "nbformat": 4,
 "nbformat_minor": 2
}
